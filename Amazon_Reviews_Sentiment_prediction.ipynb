{
 "cells": [
  {
   "cell_type": "code",
   "execution_count": 6,
   "id": "1166dc22",
   "metadata": {},
   "outputs": [],
   "source": [
    "#Amazon_reviews sentiment prediction\n",
    "import pandas as pd\n",
    "\n",
    "reviews_df=pd.read_csv('Amazon_reviews.csv')\n"
   ]
  },
  {
   "cell_type": "code",
   "execution_count": 14,
   "id": "6ba8803e",
   "metadata": {},
   "outputs": [
    {
     "data": {
      "text/plain": [
       "['the', 'rain', 'is', 'dropping', 'slowly', '.', 'do', 'you', 'observe', '?']"
      ]
     },
     "execution_count": 14,
     "metadata": {},
     "output_type": "execute_result"
    }
   ],
   "source": [
    "#EVery word - Token\n",
    "#Tokenize - divide whole text into tokens(words)\n",
    "\n",
    "import nltk\n",
    "from nltk.tokenize import word_tokenize \n",
    "\n",
    "word_tokenize('the rain is dropping slowly. do you observe ?')"
   ]
  },
  {
   "cell_type": "code",
   "execution_count": 29,
   "id": "274f3d81",
   "metadata": {},
   "outputs": [
    {
     "data": {
      "text/plain": [
       "['15-08-1947', '26-01-1950']"
      ]
     },
     "execution_count": 29,
     "metadata": {},
     "output_type": "execute_result"
    }
   ],
   "source": [
    "#Word tokenizer includes ? also. so go for regexp\n",
    "from nltk.tokenize import RegexpTokenizer\n",
    "\n",
    "#RegularExpression used to fetch data based on given pattern\n",
    "\n",
    "import re\n",
    "\n",
    "sent='India got independence on 15-08-1947 and constitution came into effect on 26-01-1950'\n",
    "\n",
    "#extract dates --- they have pattern xx-xx-xxxx\n",
    "\n",
    "re.findall(r'\\d{1,2}-\\d{1,2}-\\d{4}',sent)\n",
    "\n",
    "#So lets use Regular expression as tokenizer instead of word_tokenizer\n",
    "\n"
   ]
  },
  {
   "cell_type": "code",
   "execution_count": 31,
   "id": "42d1ecd1",
   "metadata": {},
   "outputs": [
    {
     "data": {
      "text/plain": [
       "['the', 'rain', 'is', 'dropping', 'slowly', 'do', 'you', 'observe']"
      ]
     },
     "execution_count": 31,
     "metadata": {},
     "output_type": "execute_result"
    }
   ],
   "source": [
    "tokenizer=RegexpTokenizer(r'\\w+')     #---> W - words tokenizing +--> more than 1 word\n",
    "\n",
    "tokenizer.tokenize('the rain is dropping slowly. do you observe ?')"
   ]
  },
  {
   "cell_type": "code",
   "execution_count": 58,
   "id": "c3489628",
   "metadata": {},
   "outputs": [],
   "source": [
    "#remove stopwords.\n",
    "from nltk.corpus import stopwords\n",
    "\n",
    "sw_eng=stopwords.words('english')\n",
    "sw_eng.append('much')\n"
   ]
  },
  {
   "cell_type": "code",
   "execution_count": 45,
   "id": "a9bf5b62",
   "metadata": {},
   "outputs": [
    {
     "data": {
      "text/plain": [
       "'see'"
      ]
     },
     "execution_count": 45,
     "metadata": {},
     "output_type": "execute_result"
    }
   ],
   "source": [
    "#Lemmatozation\n",
    "\n",
    "from nltk.stem import WordNetLemmatizer,PorterStemmer\n",
    "\n",
    "lemmatizer=WordNetLemmatizer()\n",
    "stemmer=PorterStemmer()  \n",
    "\n",
    "#Stemmer --> Raining = Rain.   FLying=FLy.... It dpesnt work always well comparing with Wordnetlemmetizer. ex: cactus - catci\n",
    "#Lemmatizer - Knowledge based as its work wordnet(kind of dictionary) centric\n",
    "\n",
    "lemmatizer.lemmatize('seeing',pos='v')"
   ]
  },
  {
   "cell_type": "code",
   "execution_count": 46,
   "id": "147d1dee",
   "metadata": {},
   "outputs": [],
   "source": [
    "#So we have to perform 3 steps for all reviews\n",
    "# 1. tokenizer\n",
    "# 2. Remove stopwords\n",
    "# 3. Lemmatization"
   ]
  },
  {
   "cell_type": "code",
   "execution_count": 67,
   "id": "a278715e",
   "metadata": {},
   "outputs": [],
   "source": [
    "def preprocessing(review):\n",
    "    \n",
    "    tokens=tokenizer.tokenize(review)  # Tokenize\n",
    "    \n",
    "    pure_tokens=[token.lower() for token in tokens if token.lower() not in sw_eng]  #Remove stop words\n",
    "    \n",
    "    lemma_tokens=[lemmatizer.lemmatize(token,pos='v') for token in pure_tokens]  #Lemmatization\n",
    "    \n",
    "    return ' '.join(lemma_tokens)  # Join all words - using space\n",
    "\n",
    "#preprocessing('Inflation has much higher rates')"
   ]
  },
  {
   "cell_type": "code",
   "execution_count": 79,
   "id": "b2893ed6",
   "metadata": {},
   "outputs": [],
   "source": [
    "#lets apply above logic for all rows of Reviews excel\n",
    "#reviews_df['Review'].apply(preprocessing)  #---> Review is column name in excel"
   ]
  },
  {
   "cell_type": "code",
   "execution_count": 72,
   "id": "5ce7a2ed",
   "metadata": {},
   "outputs": [],
   "source": [
    "#Train test split -- before that, remove output column\n",
    "y=reviews_df['Label']\n",
    "reviews_df.drop(columns='Label',inplace=True)"
   ]
  },
  {
   "cell_type": "code",
   "execution_count": 78,
   "id": "92e43b53",
   "metadata": {},
   "outputs": [],
   "source": [
    "#Train test split\n",
    "\n",
    "from sklearn.model_selection import train_test_split\n",
    "\n",
    "x_train,x_test,y_train,y_test=train_test_split(reviews_df,y,test_size=0.2,random_state=42)"
   ]
  },
  {
   "cell_type": "code",
   "execution_count": 85,
   "id": "97521752",
   "metadata": {},
   "outputs": [],
   "source": [
    "#apply preprocessing for all rows\n",
    "import warnings\n",
    "warnings.filterwarnings('ignore')\n",
    "\n",
    "x_train['preprocessed_text']=x_train['Review'].apply(preprocessing)\n",
    "x_test['preprocessed_text']=x_test['Review'].apply(preprocessing)"
   ]
  },
  {
   "cell_type": "code",
   "execution_count": 87,
   "id": "92077387",
   "metadata": {},
   "outputs": [],
   "source": [
    "#Since pre_procesisng is done. before feeding the data to model, Build TFIDF matrix\n",
    "\n",
    "from sklearn.feature_extraction.text import TfidfVectorizer\n",
    "tfidf=TfidfVectorizer()\n"
   ]
  },
  {
   "cell_type": "code",
   "execution_count": 97,
   "id": "e4af59b0",
   "metadata": {},
   "outputs": [],
   "source": [
    "x_train_tfidf=tfidf.fit_transform(x_train['preprocessed_text'])\n",
    "x_test_tfidf=tfidf.transform(x_test['preprocessed_text'])\n",
    "\n",
    "#tfidf.get_feature_names()  --> to check token names(word format)\n",
    "#pd.DataFrame(x_train_tfidf.toarray())  --> most of the terms are 0 as not all the terms present in all the docs\n",
    "#list(pd.DataFrame(x_train_tfidf.toarray())[0]) --> to check tftdf values for 1 row based on index"
   ]
  },
  {
   "cell_type": "code",
   "execution_count": 105,
   "id": "f73c22cb",
   "metadata": {},
   "outputs": [],
   "source": [
    "#Naive base model - relays on bayes theorem . Assumes all columns are independent of each other - so lets go with niavebayes theorem\n",
    "# - Multinomial naive bayes --> go for it --> data in the form of text and data has tfidf values\n",
    "\n",
    "from sklearn.naive_bayes import MultinomialNB\n",
    "\n",
    "mnb=MultinomialNB()\n",
    "\n",
    "mnb.fit(x_train_tfidf,y_train)\n",
    "mnb_pred=mnb.predict(x_test_tfidf)"
   ]
  },
  {
   "cell_type": "code",
   "execution_count": 106,
   "id": "0f5d6115",
   "metadata": {},
   "outputs": [
    {
     "data": {
      "text/plain": [
       "array([[ 9,  6],\n",
       "       [ 2, 23]], dtype=int64)"
      ]
     },
     "execution_count": 106,
     "metadata": {},
     "output_type": "execute_result"
    }
   ],
   "source": [
    "#Confusion matrix\n",
    "\n",
    "from sklearn.metrics import confusion_matrix,precision_score,recall_score\n",
    "\n",
    "confusion_matrix(y_test,mnb_pred)"
   ]
  },
  {
   "cell_type": "code",
   "execution_count": 107,
   "id": "0117d4dd",
   "metadata": {},
   "outputs": [
    {
     "data": {
      "text/plain": [
       "0.92"
      ]
     },
     "execution_count": 107,
     "metadata": {},
     "output_type": "execute_result"
    }
   ],
   "source": [
    "recall_score(y_test,mnb_pred)"
   ]
  },
  {
   "cell_type": "code",
   "execution_count": 108,
   "id": "a84b982a",
   "metadata": {},
   "outputs": [
    {
     "data": {
      "text/plain": [
       "0.7931034482758621"
      ]
     },
     "execution_count": 108,
     "metadata": {},
     "output_type": "execute_result"
    }
   ],
   "source": [
    "precision_score(y_test,mnb_pred)"
   ]
  }
 ],
 "metadata": {
  "kernelspec": {
   "display_name": "Python 3",
   "language": "python",
   "name": "python3"
  },
  "language_info": {
   "codemirror_mode": {
    "name": "ipython",
    "version": 3
   },
   "file_extension": ".py",
   "mimetype": "text/x-python",
   "name": "python",
   "nbconvert_exporter": "python",
   "pygments_lexer": "ipython3",
   "version": "3.8.8"
  }
 },
 "nbformat": 4,
 "nbformat_minor": 5
}
